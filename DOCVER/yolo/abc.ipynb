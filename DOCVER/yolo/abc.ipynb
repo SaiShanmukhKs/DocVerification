{
 "cells": [
  {
   "cell_type": "code",
   "execution_count": 3,
   "metadata": {},
   "outputs": [
    {
     "name": "stderr",
     "output_type": "stream",
     "text": [
      "\n",
      "image 1/1 c:\\Users\\shanmukh\\Desktop\\yolo\\panS.jpg: 512x800 1 IT, 1 Logo, 1 panNo, 1 qr_code, 322.4ms\n",
      "Speed: 4.0ms preprocess, 322.4ms inference, 3.0ms postprocess per image at shape (1, 3, 512, 800)\n",
      "Results saved to \u001b[1mruns\\detect\\predict3\u001b[0m\n",
      "1 label saved to runs\\detect\\predict3\\labels\n"
     ]
    }
   ],
   "source": [
    "from ultralytics import YOLO\n",
    "import shutil\n",
    "import os\n",
    "\n",
    "# Specify the desired output directory\n",
    "output_directory = \"static\"\n",
    "\n",
    "# Create the YOLO model\n",
    "model = YOLO(\"best.pt\")\n",
    "\n",
    "# Run prediction\n",
    "result = model.predict('panS.jpg', save=True, save_crop=True)\n",
    "\n",
    "# Move the files to the desired folde\n"
   ]
  },
  {
   "cell_type": "code",
   "execution_count": null,
   "metadata": {},
   "outputs": [],
   "source": [
    "import shutil\n",
    "import os\n",
    "\n",
    "def copy_folder_contents(src_folder, dest_folder):\n",
    "    # Create the destination folder if it doesn't exist\n",
    "    if not os.path.exists(dest_folder):\n",
    "        os.makedirs(dest_folder)\n",
    "\n",
    "    # Copy the contents of the source folder to the destination folder\n",
    "    for item in os.listdir(src_folder):\n",
    "        s = os.path.join(src_folder, item)\n",
    "        d = os.path.join(dest_folder, item)\n",
    "\n",
    "        if os.path.isdir(s):\n",
    "            # Recursively copy subfolders\n",
    "            shutil.copytree(s, d, symlinks=False, ignore=None)\n",
    "        else:\n",
    "            # Copy files\n",
    "            shutil.copy2(s, d)\n",
    "\n",
    "# Example usage\n",
    "source_folder = \"runs\"\n",
    "destination_folder = \"static\"\n",
    "\n",
    "copy_folder_contents(source_folder, destination_folder)\n"
   ]
  }
 ],
 "metadata": {
  "kernelspec": {
   "display_name": "Python 3",
   "language": "python",
   "name": "python3"
  },
  "language_info": {
   "codemirror_mode": {
    "name": "ipython",
    "version": 3
   },
   "file_extension": ".py",
   "mimetype": "text/x-python",
   "name": "python",
   "nbconvert_exporter": "python",
   "pygments_lexer": "ipython3",
   "version": "3.11.3"
  }
 },
 "nbformat": 4,
 "nbformat_minor": 2
}
